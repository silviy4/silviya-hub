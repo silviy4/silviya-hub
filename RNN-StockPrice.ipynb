{
 "cells": [
  {
   "cell_type": "code",
   "execution_count": 1,
   "id": "1668e682",
   "metadata": {},
   "outputs": [],
   "source": [
    "import pandas as pd\n",
    "import numpy as np\n",
    "from sklearn.preprocessing import MinMaxScaler\n",
    "import matplotlib.pyplot as plt"
   ]
  },
  {
   "cell_type": "code",
   "execution_count": 2,
   "id": "63277d7f",
   "metadata": {},
   "outputs": [],
   "source": [
    "data = pd.read_csv(\"GOOG.csv\", date_parser=True)"
   ]
  },
  {
   "cell_type": "code",
   "execution_count": 3,
   "id": "9a49c06c",
   "metadata": {},
   "outputs": [
    {
     "data": {
      "text/html": [
       "<div>\n",
       "<style scoped>\n",
       "    .dataframe tbody tr th:only-of-type {\n",
       "        vertical-align: middle;\n",
       "    }\n",
       "\n",
       "    .dataframe tbody tr th {\n",
       "        vertical-align: top;\n",
       "    }\n",
       "\n",
       "    .dataframe thead th {\n",
       "        text-align: right;\n",
       "    }\n",
       "</style>\n",
       "<table border=\"1\" class=\"dataframe\">\n",
       "  <thead>\n",
       "    <tr style=\"text-align: right;\">\n",
       "      <th></th>\n",
       "      <th>Date</th>\n",
       "      <th>Open</th>\n",
       "      <th>High</th>\n",
       "      <th>Low</th>\n",
       "      <th>Close</th>\n",
       "      <th>Adj Close</th>\n",
       "      <th>Volume</th>\n",
       "    </tr>\n",
       "  </thead>\n",
       "  <tbody>\n",
       "    <tr>\n",
       "      <th>0</th>\n",
       "      <td>2004-08-19</td>\n",
       "      <td>2.490664</td>\n",
       "      <td>2.591785</td>\n",
       "      <td>2.390042</td>\n",
       "      <td>2.499133</td>\n",
       "      <td>2.499133</td>\n",
       "      <td>897427216</td>\n",
       "    </tr>\n",
       "    <tr>\n",
       "      <th>1</th>\n",
       "      <td>2004-08-20</td>\n",
       "      <td>2.515820</td>\n",
       "      <td>2.716817</td>\n",
       "      <td>2.503118</td>\n",
       "      <td>2.697639</td>\n",
       "      <td>2.697639</td>\n",
       "      <td>458857488</td>\n",
       "    </tr>\n",
       "    <tr>\n",
       "      <th>2</th>\n",
       "      <td>2004-08-23</td>\n",
       "      <td>2.758411</td>\n",
       "      <td>2.826406</td>\n",
       "      <td>2.716070</td>\n",
       "      <td>2.724787</td>\n",
       "      <td>2.724787</td>\n",
       "      <td>366857939</td>\n",
       "    </tr>\n",
       "    <tr>\n",
       "      <th>3</th>\n",
       "      <td>2004-08-24</td>\n",
       "      <td>2.770615</td>\n",
       "      <td>2.779581</td>\n",
       "      <td>2.579581</td>\n",
       "      <td>2.611960</td>\n",
       "      <td>2.611960</td>\n",
       "      <td>306396159</td>\n",
       "    </tr>\n",
       "    <tr>\n",
       "      <th>4</th>\n",
       "      <td>2004-08-25</td>\n",
       "      <td>2.614201</td>\n",
       "      <td>2.689918</td>\n",
       "      <td>2.587302</td>\n",
       "      <td>2.640104</td>\n",
       "      <td>2.640104</td>\n",
       "      <td>184645512</td>\n",
       "    </tr>\n",
       "  </tbody>\n",
       "</table>\n",
       "</div>"
      ],
      "text/plain": [
       "         Date      Open      High       Low     Close  Adj Close     Volume\n",
       "0  2004-08-19  2.490664  2.591785  2.390042  2.499133   2.499133  897427216\n",
       "1  2004-08-20  2.515820  2.716817  2.503118  2.697639   2.697639  458857488\n",
       "2  2004-08-23  2.758411  2.826406  2.716070  2.724787   2.724787  366857939\n",
       "3  2004-08-24  2.770615  2.779581  2.579581  2.611960   2.611960  306396159\n",
       "4  2004-08-25  2.614201  2.689918  2.587302  2.640104   2.640104  184645512"
      ]
     },
     "execution_count": 3,
     "metadata": {},
     "output_type": "execute_result"
    }
   ],
   "source": [
    "data.head()"
   ]
  },
  {
   "cell_type": "code",
   "execution_count": 4,
   "id": "43c0da94",
   "metadata": {},
   "outputs": [
    {
     "data": {
      "text/html": [
       "<div>\n",
       "<style scoped>\n",
       "    .dataframe tbody tr th:only-of-type {\n",
       "        vertical-align: middle;\n",
       "    }\n",
       "\n",
       "    .dataframe tbody tr th {\n",
       "        vertical-align: top;\n",
       "    }\n",
       "\n",
       "    .dataframe thead th {\n",
       "        text-align: right;\n",
       "    }\n",
       "</style>\n",
       "<table border=\"1\" class=\"dataframe\">\n",
       "  <thead>\n",
       "    <tr style=\"text-align: right;\">\n",
       "      <th></th>\n",
       "      <th>Date</th>\n",
       "      <th>Open</th>\n",
       "      <th>High</th>\n",
       "      <th>Low</th>\n",
       "      <th>Close</th>\n",
       "      <th>Adj Close</th>\n",
       "      <th>Volume</th>\n",
       "    </tr>\n",
       "  </thead>\n",
       "  <tbody>\n",
       "    <tr>\n",
       "      <th>4714</th>\n",
       "      <td>2023-05-11</td>\n",
       "      <td>115.860001</td>\n",
       "      <td>118.440002</td>\n",
       "      <td>114.930000</td>\n",
       "      <td>116.900002</td>\n",
       "      <td>116.900002</td>\n",
       "      <td>57115100</td>\n",
       "    </tr>\n",
       "    <tr>\n",
       "      <th>4715</th>\n",
       "      <td>2023-05-12</td>\n",
       "      <td>117.000000</td>\n",
       "      <td>118.260002</td>\n",
       "      <td>116.550003</td>\n",
       "      <td>117.919998</td>\n",
       "      <td>117.919998</td>\n",
       "      <td>31272500</td>\n",
       "    </tr>\n",
       "    <tr>\n",
       "      <th>4716</th>\n",
       "      <td>2023-05-15</td>\n",
       "      <td>116.489998</td>\n",
       "      <td>118.794998</td>\n",
       "      <td>116.480003</td>\n",
       "      <td>116.959999</td>\n",
       "      <td>116.959999</td>\n",
       "      <td>22107900</td>\n",
       "    </tr>\n",
       "    <tr>\n",
       "      <th>4717</th>\n",
       "      <td>2023-05-16</td>\n",
       "      <td>116.830002</td>\n",
       "      <td>121.199997</td>\n",
       "      <td>116.830002</td>\n",
       "      <td>120.089996</td>\n",
       "      <td>120.089996</td>\n",
       "      <td>32370100</td>\n",
       "    </tr>\n",
       "    <tr>\n",
       "      <th>4718</th>\n",
       "      <td>2023-05-17</td>\n",
       "      <td>120.180000</td>\n",
       "      <td>122.279999</td>\n",
       "      <td>119.459999</td>\n",
       "      <td>121.480003</td>\n",
       "      <td>121.480003</td>\n",
       "      <td>26651400</td>\n",
       "    </tr>\n",
       "  </tbody>\n",
       "</table>\n",
       "</div>"
      ],
      "text/plain": [
       "            Date        Open        High         Low       Close   Adj Close  \\\n",
       "4714  2023-05-11  115.860001  118.440002  114.930000  116.900002  116.900002   \n",
       "4715  2023-05-12  117.000000  118.260002  116.550003  117.919998  117.919998   \n",
       "4716  2023-05-15  116.489998  118.794998  116.480003  116.959999  116.959999   \n",
       "4717  2023-05-16  116.830002  121.199997  116.830002  120.089996  120.089996   \n",
       "4718  2023-05-17  120.180000  122.279999  119.459999  121.480003  121.480003   \n",
       "\n",
       "        Volume  \n",
       "4714  57115100  \n",
       "4715  31272500  \n",
       "4716  22107900  \n",
       "4717  32370100  \n",
       "4718  26651400  "
      ]
     },
     "execution_count": 4,
     "metadata": {},
     "output_type": "execute_result"
    }
   ],
   "source": [
    "data.tail()"
   ]
  },
  {
   "cell_type": "code",
   "execution_count": 5,
   "id": "d5eb7019",
   "metadata": {},
   "outputs": [],
   "source": [
    "training_data = data[data['Date'] < '2022-10-01'].copy()\n",
    "data_training = training_data.copy()"
   ]
  },
  {
   "cell_type": "code",
   "execution_count": 6,
   "id": "178ec672",
   "metadata": {},
   "outputs": [
    {
     "data": {
      "text/html": [
       "<div>\n",
       "<style scoped>\n",
       "    .dataframe tbody tr th:only-of-type {\n",
       "        vertical-align: middle;\n",
       "    }\n",
       "\n",
       "    .dataframe tbody tr th {\n",
       "        vertical-align: top;\n",
       "    }\n",
       "\n",
       "    .dataframe thead th {\n",
       "        text-align: right;\n",
       "    }\n",
       "</style>\n",
       "<table border=\"1\" class=\"dataframe\">\n",
       "  <thead>\n",
       "    <tr style=\"text-align: right;\">\n",
       "      <th></th>\n",
       "      <th>Date</th>\n",
       "      <th>Open</th>\n",
       "      <th>High</th>\n",
       "      <th>Low</th>\n",
       "      <th>Close</th>\n",
       "      <th>Adj Close</th>\n",
       "      <th>Volume</th>\n",
       "    </tr>\n",
       "  </thead>\n",
       "  <tbody>\n",
       "    <tr>\n",
       "      <th>4557</th>\n",
       "      <td>2022-09-26</td>\n",
       "      <td>98.610001</td>\n",
       "      <td>100.440002</td>\n",
       "      <td>98.379997</td>\n",
       "      <td>98.809998</td>\n",
       "      <td>98.809998</td>\n",
       "      <td>22437900</td>\n",
       "    </tr>\n",
       "    <tr>\n",
       "      <th>4558</th>\n",
       "      <td>2022-09-27</td>\n",
       "      <td>99.910004</td>\n",
       "      <td>100.459999</td>\n",
       "      <td>97.339996</td>\n",
       "      <td>98.089996</td>\n",
       "      <td>98.089996</td>\n",
       "      <td>24225000</td>\n",
       "    </tr>\n",
       "    <tr>\n",
       "      <th>4559</th>\n",
       "      <td>2022-09-28</td>\n",
       "      <td>98.019997</td>\n",
       "      <td>101.400002</td>\n",
       "      <td>97.800003</td>\n",
       "      <td>100.739998</td>\n",
       "      <td>100.739998</td>\n",
       "      <td>24617000</td>\n",
       "    </tr>\n",
       "    <tr>\n",
       "      <th>4560</th>\n",
       "      <td>2022-09-29</td>\n",
       "      <td>99.300003</td>\n",
       "      <td>99.300003</td>\n",
       "      <td>96.519997</td>\n",
       "      <td>98.089996</td>\n",
       "      <td>98.089996</td>\n",
       "      <td>21921500</td>\n",
       "    </tr>\n",
       "    <tr>\n",
       "      <th>4561</th>\n",
       "      <td>2022-09-30</td>\n",
       "      <td>97.730003</td>\n",
       "      <td>99.494003</td>\n",
       "      <td>96.029999</td>\n",
       "      <td>96.150002</td>\n",
       "      <td>96.150002</td>\n",
       "      <td>26277800</td>\n",
       "    </tr>\n",
       "  </tbody>\n",
       "</table>\n",
       "</div>"
      ],
      "text/plain": [
       "            Date       Open        High        Low       Close   Adj Close  \\\n",
       "4557  2022-09-26  98.610001  100.440002  98.379997   98.809998   98.809998   \n",
       "4558  2022-09-27  99.910004  100.459999  97.339996   98.089996   98.089996   \n",
       "4559  2022-09-28  98.019997  101.400002  97.800003  100.739998  100.739998   \n",
       "4560  2022-09-29  99.300003   99.300003  96.519997   98.089996   98.089996   \n",
       "4561  2022-09-30  97.730003   99.494003  96.029999   96.150002   96.150002   \n",
       "\n",
       "        Volume  \n",
       "4557  22437900  \n",
       "4558  24225000  \n",
       "4559  24617000  \n",
       "4560  21921500  \n",
       "4561  26277800  "
      ]
     },
     "execution_count": 6,
     "metadata": {},
     "output_type": "execute_result"
    }
   ],
   "source": [
    "training_data.tail()"
   ]
  },
  {
   "cell_type": "code",
   "execution_count": 7,
   "id": "84679d89",
   "metadata": {},
   "outputs": [],
   "source": [
    "testing_data = data[data['Date'] >= '2022-10-01'].copy()"
   ]
  },
  {
   "cell_type": "code",
   "execution_count": 8,
   "id": "29a3d595",
   "metadata": {},
   "outputs": [
    {
     "data": {
      "text/html": [
       "<div>\n",
       "<style scoped>\n",
       "    .dataframe tbody tr th:only-of-type {\n",
       "        vertical-align: middle;\n",
       "    }\n",
       "\n",
       "    .dataframe tbody tr th {\n",
       "        vertical-align: top;\n",
       "    }\n",
       "\n",
       "    .dataframe thead th {\n",
       "        text-align: right;\n",
       "    }\n",
       "</style>\n",
       "<table border=\"1\" class=\"dataframe\">\n",
       "  <thead>\n",
       "    <tr style=\"text-align: right;\">\n",
       "      <th></th>\n",
       "      <th>Date</th>\n",
       "      <th>Open</th>\n",
       "      <th>High</th>\n",
       "      <th>Low</th>\n",
       "      <th>Close</th>\n",
       "      <th>Adj Close</th>\n",
       "      <th>Volume</th>\n",
       "    </tr>\n",
       "  </thead>\n",
       "  <tbody>\n",
       "    <tr>\n",
       "      <th>4562</th>\n",
       "      <td>2022-10-03</td>\n",
       "      <td>97.220001</td>\n",
       "      <td>99.970001</td>\n",
       "      <td>97.019997</td>\n",
       "      <td>99.300003</td>\n",
       "      <td>99.300003</td>\n",
       "      <td>24840000</td>\n",
       "    </tr>\n",
       "    <tr>\n",
       "      <th>4563</th>\n",
       "      <td>2022-10-04</td>\n",
       "      <td>101.040001</td>\n",
       "      <td>102.720001</td>\n",
       "      <td>101.040001</td>\n",
       "      <td>102.410004</td>\n",
       "      <td>102.410004</td>\n",
       "      <td>22580900</td>\n",
       "    </tr>\n",
       "    <tr>\n",
       "      <th>4564</th>\n",
       "      <td>2022-10-05</td>\n",
       "      <td>100.690002</td>\n",
       "      <td>102.739998</td>\n",
       "      <td>99.739998</td>\n",
       "      <td>102.220001</td>\n",
       "      <td>102.220001</td>\n",
       "      <td>18475500</td>\n",
       "    </tr>\n",
       "    <tr>\n",
       "      <th>4565</th>\n",
       "      <td>2022-10-06</td>\n",
       "      <td>101.500000</td>\n",
       "      <td>103.730003</td>\n",
       "      <td>101.500000</td>\n",
       "      <td>102.239998</td>\n",
       "      <td>102.239998</td>\n",
       "      <td>17156200</td>\n",
       "    </tr>\n",
       "    <tr>\n",
       "      <th>4566</th>\n",
       "      <td>2022-10-07</td>\n",
       "      <td>100.650002</td>\n",
       "      <td>101.419998</td>\n",
       "      <td>99.209999</td>\n",
       "      <td>99.570000</td>\n",
       "      <td>99.570000</td>\n",
       "      <td>24249900</td>\n",
       "    </tr>\n",
       "    <tr>\n",
       "      <th>...</th>\n",
       "      <td>...</td>\n",
       "      <td>...</td>\n",
       "      <td>...</td>\n",
       "      <td>...</td>\n",
       "      <td>...</td>\n",
       "      <td>...</td>\n",
       "      <td>...</td>\n",
       "    </tr>\n",
       "    <tr>\n",
       "      <th>4714</th>\n",
       "      <td>2023-05-11</td>\n",
       "      <td>115.860001</td>\n",
       "      <td>118.440002</td>\n",
       "      <td>114.930000</td>\n",
       "      <td>116.900002</td>\n",
       "      <td>116.900002</td>\n",
       "      <td>57115100</td>\n",
       "    </tr>\n",
       "    <tr>\n",
       "      <th>4715</th>\n",
       "      <td>2023-05-12</td>\n",
       "      <td>117.000000</td>\n",
       "      <td>118.260002</td>\n",
       "      <td>116.550003</td>\n",
       "      <td>117.919998</td>\n",
       "      <td>117.919998</td>\n",
       "      <td>31272500</td>\n",
       "    </tr>\n",
       "    <tr>\n",
       "      <th>4716</th>\n",
       "      <td>2023-05-15</td>\n",
       "      <td>116.489998</td>\n",
       "      <td>118.794998</td>\n",
       "      <td>116.480003</td>\n",
       "      <td>116.959999</td>\n",
       "      <td>116.959999</td>\n",
       "      <td>22107900</td>\n",
       "    </tr>\n",
       "    <tr>\n",
       "      <th>4717</th>\n",
       "      <td>2023-05-16</td>\n",
       "      <td>116.830002</td>\n",
       "      <td>121.199997</td>\n",
       "      <td>116.830002</td>\n",
       "      <td>120.089996</td>\n",
       "      <td>120.089996</td>\n",
       "      <td>32370100</td>\n",
       "    </tr>\n",
       "    <tr>\n",
       "      <th>4718</th>\n",
       "      <td>2023-05-17</td>\n",
       "      <td>120.180000</td>\n",
       "      <td>122.279999</td>\n",
       "      <td>119.459999</td>\n",
       "      <td>121.480003</td>\n",
       "      <td>121.480003</td>\n",
       "      <td>26651400</td>\n",
       "    </tr>\n",
       "  </tbody>\n",
       "</table>\n",
       "<p>157 rows × 7 columns</p>\n",
       "</div>"
      ],
      "text/plain": [
       "            Date        Open        High         Low       Close   Adj Close  \\\n",
       "4562  2022-10-03   97.220001   99.970001   97.019997   99.300003   99.300003   \n",
       "4563  2022-10-04  101.040001  102.720001  101.040001  102.410004  102.410004   \n",
       "4564  2022-10-05  100.690002  102.739998   99.739998  102.220001  102.220001   \n",
       "4565  2022-10-06  101.500000  103.730003  101.500000  102.239998  102.239998   \n",
       "4566  2022-10-07  100.650002  101.419998   99.209999   99.570000   99.570000   \n",
       "...          ...         ...         ...         ...         ...         ...   \n",
       "4714  2023-05-11  115.860001  118.440002  114.930000  116.900002  116.900002   \n",
       "4715  2023-05-12  117.000000  118.260002  116.550003  117.919998  117.919998   \n",
       "4716  2023-05-15  116.489998  118.794998  116.480003  116.959999  116.959999   \n",
       "4717  2023-05-16  116.830002  121.199997  116.830002  120.089996  120.089996   \n",
       "4718  2023-05-17  120.180000  122.279999  119.459999  121.480003  121.480003   \n",
       "\n",
       "        Volume  \n",
       "4562  24840000  \n",
       "4563  22580900  \n",
       "4564  18475500  \n",
       "4565  17156200  \n",
       "4566  24249900  \n",
       "...        ...  \n",
       "4714  57115100  \n",
       "4715  31272500  \n",
       "4716  22107900  \n",
       "4717  32370100  \n",
       "4718  26651400  \n",
       "\n",
       "[157 rows x 7 columns]"
      ]
     },
     "execution_count": 8,
     "metadata": {},
     "output_type": "execute_result"
    }
   ],
   "source": [
    "testing_data"
   ]
  },
  {
   "cell_type": "code",
   "execution_count": 9,
   "id": "492edd1d",
   "metadata": {},
   "outputs": [],
   "source": [
    "training_data = training_data.drop(['Date', 'Adj Close'], axis = 1)"
   ]
  },
  {
   "cell_type": "code",
   "execution_count": 10,
   "id": "f9ec2b0a",
   "metadata": {},
   "outputs": [
    {
     "data": {
      "text/html": [
       "<div>\n",
       "<style scoped>\n",
       "    .dataframe tbody tr th:only-of-type {\n",
       "        vertical-align: middle;\n",
       "    }\n",
       "\n",
       "    .dataframe tbody tr th {\n",
       "        vertical-align: top;\n",
       "    }\n",
       "\n",
       "    .dataframe thead th {\n",
       "        text-align: right;\n",
       "    }\n",
       "</style>\n",
       "<table border=\"1\" class=\"dataframe\">\n",
       "  <thead>\n",
       "    <tr style=\"text-align: right;\">\n",
       "      <th></th>\n",
       "      <th>Open</th>\n",
       "      <th>High</th>\n",
       "      <th>Low</th>\n",
       "      <th>Close</th>\n",
       "      <th>Volume</th>\n",
       "    </tr>\n",
       "  </thead>\n",
       "  <tbody>\n",
       "    <tr>\n",
       "      <th>0</th>\n",
       "      <td>2.490664</td>\n",
       "      <td>2.591785</td>\n",
       "      <td>2.390042</td>\n",
       "      <td>2.499133</td>\n",
       "      <td>897427216</td>\n",
       "    </tr>\n",
       "    <tr>\n",
       "      <th>1</th>\n",
       "      <td>2.515820</td>\n",
       "      <td>2.716817</td>\n",
       "      <td>2.503118</td>\n",
       "      <td>2.697639</td>\n",
       "      <td>458857488</td>\n",
       "    </tr>\n",
       "    <tr>\n",
       "      <th>2</th>\n",
       "      <td>2.758411</td>\n",
       "      <td>2.826406</td>\n",
       "      <td>2.716070</td>\n",
       "      <td>2.724787</td>\n",
       "      <td>366857939</td>\n",
       "    </tr>\n",
       "    <tr>\n",
       "      <th>3</th>\n",
       "      <td>2.770615</td>\n",
       "      <td>2.779581</td>\n",
       "      <td>2.579581</td>\n",
       "      <td>2.611960</td>\n",
       "      <td>306396159</td>\n",
       "    </tr>\n",
       "    <tr>\n",
       "      <th>4</th>\n",
       "      <td>2.614201</td>\n",
       "      <td>2.689918</td>\n",
       "      <td>2.587302</td>\n",
       "      <td>2.640104</td>\n",
       "      <td>184645512</td>\n",
       "    </tr>\n",
       "  </tbody>\n",
       "</table>\n",
       "</div>"
      ],
      "text/plain": [
       "       Open      High       Low     Close     Volume\n",
       "0  2.490664  2.591785  2.390042  2.499133  897427216\n",
       "1  2.515820  2.716817  2.503118  2.697639  458857488\n",
       "2  2.758411  2.826406  2.716070  2.724787  366857939\n",
       "3  2.770615  2.779581  2.579581  2.611960  306396159\n",
       "4  2.614201  2.689918  2.587302  2.640104  184645512"
      ]
     },
     "execution_count": 10,
     "metadata": {},
     "output_type": "execute_result"
    }
   ],
   "source": [
    "training_data.head()"
   ]
  },
  {
   "cell_type": "code",
   "execution_count": 11,
   "id": "ae6f51c1",
   "metadata": {},
   "outputs": [
    {
     "data": {
      "text/plain": [
       "array([[1.35039790e-04, 3.86337794e-04, 0.00000000e+00, 5.54588186e-05,\n",
       "        5.43577158e-01],\n",
       "       [3.03427861e-04, 1.22230316e-03, 7.66630177e-04, 1.39474206e-03,\n",
       "        2.77885883e-01],\n",
       "       [1.92727230e-03, 1.95501646e-03, 2.21039746e-03, 1.57790459e-03,\n",
       "        2.22151354e-01],\n",
       "       ...,\n",
       "       [6.39584879e-01, 6.61019198e-01, 6.46858354e-01, 6.62868392e-01,\n",
       "        1.48173190e-02],\n",
       "       [6.48152924e-01, 6.46978581e-01, 6.38180198e-01, 6.44989319e-01,\n",
       "        1.31843499e-02],\n",
       "       [6.37643730e-01, 6.48275667e-01, 6.34858120e-01, 6.31900539e-01,\n",
       "        1.58234534e-02]])"
      ]
     },
     "execution_count": 11,
     "metadata": {},
     "output_type": "execute_result"
    }
   ],
   "source": [
    "sc = MinMaxScaler()\n",
    "training_data= sc.fit_transform(training_data)\n",
    "training_data"
   ]
  },
  {
   "cell_type": "code",
   "execution_count": 12,
   "id": "042ac8bb",
   "metadata": {},
   "outputs": [],
   "source": [
    "X_train = []\n",
    "y_train = []"
   ]
  },
  {
   "cell_type": "code",
   "execution_count": 13,
   "id": "984d05b4",
   "metadata": {},
   "outputs": [
    {
     "data": {
      "text/plain": [
       "4562"
      ]
     },
     "execution_count": 13,
     "metadata": {},
     "output_type": "execute_result"
    }
   ],
   "source": [
    "training_data.shape[0]"
   ]
  },
  {
   "cell_type": "code",
   "execution_count": 14,
   "id": "d574044f",
   "metadata": {},
   "outputs": [],
   "source": [
    "for i in range(60, training_data.shape[0]):\n",
    "    X_train.append(training_data[i - 60 : i])\n",
    "    y_train.append(training_data[i, 0])\n",
    "    \n",
    "X_train, y_train = np.array(X_train), np.array(y_train)"
   ]
  },
  {
   "cell_type": "code",
   "execution_count": 15,
   "id": "0b0a2a98",
   "metadata": {},
   "outputs": [
    {
     "data": {
      "text/plain": [
       "(4502, 60, 5)"
      ]
     },
     "execution_count": 15,
     "metadata": {},
     "output_type": "execute_result"
    }
   ],
   "source": [
    "X_train.shape"
   ]
  },
  {
   "cell_type": "code",
   "execution_count": 16,
   "id": "cf015fc5",
   "metadata": {},
   "outputs": [
    {
     "data": {
      "text/plain": [
       "(4502,)"
      ]
     },
     "execution_count": 16,
     "metadata": {},
     "output_type": "execute_result"
    }
   ],
   "source": [
    "y_train.shape"
   ]
  },
  {
   "cell_type": "code",
   "execution_count": 17,
   "id": "bcb0aa20",
   "metadata": {},
   "outputs": [],
   "source": [
    "from tensorflow.keras import Sequential\n",
    "from tensorflow.keras.layers import LSTM, Dropout, Dense"
   ]
  },
  {
   "cell_type": "code",
   "execution_count": 18,
   "id": "c0d7da7d",
   "metadata": {},
   "outputs": [],
   "source": [
    "model = Sequential()"
   ]
  },
  {
   "cell_type": "code",
   "execution_count": 19,
   "id": "dbde48ae",
   "metadata": {},
   "outputs": [],
   "source": [
    "model.add(LSTM(units = 60, activation = 'relu', return_sequences = True, input_shape = (X_train.shape[1], X_train.shape[2])))\n",
    "model.add(Dropout(0.2))\n",
    "\n",
    "model.add(LSTM(units = 60, activation = 'relu', return_sequences = True))\n",
    "model.add(Dropout(0.2))\n",
    "\n",
    "model.add(LSTM(units = 80, activation = 'relu', return_sequences = True))\n",
    "model.add(Dropout(0.2))\n",
    "\n",
    "model.add(LSTM(units = 120, activation = 'relu'))\n",
    "model.add(Dropout(0.2))\n",
    "\n",
    "\n",
    "model.add(Dense(units = 1))\n"
   ]
  },
  {
   "cell_type": "code",
   "execution_count": 20,
   "id": "cd97ec9b",
   "metadata": {},
   "outputs": [
    {
     "name": "stdout",
     "output_type": "stream",
     "text": [
      "Model: \"sequential\"\n",
      "_________________________________________________________________\n",
      " Layer (type)                Output Shape              Param #   \n",
      "=================================================================\n",
      " lstm (LSTM)                 (None, 60, 60)            15840     \n",
      "                                                                 \n",
      " dropout (Dropout)           (None, 60, 60)            0         \n",
      "                                                                 \n",
      " lstm_1 (LSTM)               (None, 60, 60)            29040     \n",
      "                                                                 \n",
      " dropout_1 (Dropout)         (None, 60, 60)            0         \n",
      "                                                                 \n",
      " lstm_2 (LSTM)               (None, 60, 80)            45120     \n",
      "                                                                 \n",
      " dropout_2 (Dropout)         (None, 60, 80)            0         \n",
      "                                                                 \n",
      " lstm_3 (LSTM)               (None, 120)               96480     \n",
      "                                                                 \n",
      " dropout_3 (Dropout)         (None, 120)               0         \n",
      "                                                                 \n",
      " dense (Dense)               (None, 1)                 121       \n",
      "                                                                 \n",
      "=================================================================\n",
      "Total params: 186,601\n",
      "Trainable params: 186,601\n",
      "Non-trainable params: 0\n",
      "_________________________________________________________________\n"
     ]
    }
   ],
   "source": [
    "model.summary()"
   ]
  },
  {
   "cell_type": "code",
   "execution_count": 21,
   "id": "073b0908",
   "metadata": {},
   "outputs": [],
   "source": [
    "model.compile(optimizer = 'adam', loss = 'mean_squared_error')"
   ]
  },
  {
   "cell_type": "code",
   "execution_count": 22,
   "id": "5b693e60",
   "metadata": {},
   "outputs": [
    {
     "data": {
      "text/plain": [
       "(4502, 60, 5)"
      ]
     },
     "execution_count": 22,
     "metadata": {},
     "output_type": "execute_result"
    }
   ],
   "source": [
    "X_train.shape"
   ]
  },
  {
   "cell_type": "code",
   "execution_count": 23,
   "id": "b4da4416",
   "metadata": {},
   "outputs": [
    {
     "data": {
      "text/plain": [
       "(4502,)"
      ]
     },
     "execution_count": 23,
     "metadata": {},
     "output_type": "execute_result"
    }
   ],
   "source": [
    "y_train.shape"
   ]
  },
  {
   "cell_type": "code",
   "execution_count": 24,
   "id": "d6550b28",
   "metadata": {},
   "outputs": [
    {
     "name": "stdout",
     "output_type": "stream",
     "text": [
      "Epoch 1/2\n",
      "9/9 [==============================] - 8s 559ms/step - loss: 0.0630\n",
      "Epoch 2/2\n",
      "9/9 [==============================] - 5s 594ms/step - loss: 0.0124\n"
     ]
    },
    {
     "data": {
      "text/plain": [
       "<keras.callbacks.History at 0x2795b46cf10>"
      ]
     },
     "execution_count": 24,
     "metadata": {},
     "output_type": "execute_result"
    }
   ],
   "source": [
    "model.fit(X_train, y_train, epochs = 2, batch_size = 512)"
   ]
  },
  {
   "cell_type": "code",
   "execution_count": 25,
   "id": "af4b4c93",
   "metadata": {},
   "outputs": [
    {
     "data": {
      "text/html": [
       "<div>\n",
       "<style scoped>\n",
       "    .dataframe tbody tr th:only-of-type {\n",
       "        vertical-align: middle;\n",
       "    }\n",
       "\n",
       "    .dataframe tbody tr th {\n",
       "        vertical-align: top;\n",
       "    }\n",
       "\n",
       "    .dataframe thead th {\n",
       "        text-align: right;\n",
       "    }\n",
       "</style>\n",
       "<table border=\"1\" class=\"dataframe\">\n",
       "  <thead>\n",
       "    <tr style=\"text-align: right;\">\n",
       "      <th></th>\n",
       "      <th>Date</th>\n",
       "      <th>Open</th>\n",
       "      <th>High</th>\n",
       "      <th>Low</th>\n",
       "      <th>Close</th>\n",
       "      <th>Adj Close</th>\n",
       "      <th>Volume</th>\n",
       "    </tr>\n",
       "  </thead>\n",
       "  <tbody>\n",
       "    <tr>\n",
       "      <th>4562</th>\n",
       "      <td>2022-10-03</td>\n",
       "      <td>97.220001</td>\n",
       "      <td>99.970001</td>\n",
       "      <td>97.019997</td>\n",
       "      <td>99.300003</td>\n",
       "      <td>99.300003</td>\n",
       "      <td>24840000</td>\n",
       "    </tr>\n",
       "    <tr>\n",
       "      <th>4563</th>\n",
       "      <td>2022-10-04</td>\n",
       "      <td>101.040001</td>\n",
       "      <td>102.720001</td>\n",
       "      <td>101.040001</td>\n",
       "      <td>102.410004</td>\n",
       "      <td>102.410004</td>\n",
       "      <td>22580900</td>\n",
       "    </tr>\n",
       "    <tr>\n",
       "      <th>4564</th>\n",
       "      <td>2022-10-05</td>\n",
       "      <td>100.690002</td>\n",
       "      <td>102.739998</td>\n",
       "      <td>99.739998</td>\n",
       "      <td>102.220001</td>\n",
       "      <td>102.220001</td>\n",
       "      <td>18475500</td>\n",
       "    </tr>\n",
       "    <tr>\n",
       "      <th>4565</th>\n",
       "      <td>2022-10-06</td>\n",
       "      <td>101.500000</td>\n",
       "      <td>103.730003</td>\n",
       "      <td>101.500000</td>\n",
       "      <td>102.239998</td>\n",
       "      <td>102.239998</td>\n",
       "      <td>17156200</td>\n",
       "    </tr>\n",
       "    <tr>\n",
       "      <th>4566</th>\n",
       "      <td>2022-10-07</td>\n",
       "      <td>100.650002</td>\n",
       "      <td>101.419998</td>\n",
       "      <td>99.209999</td>\n",
       "      <td>99.570000</td>\n",
       "      <td>99.570000</td>\n",
       "      <td>24249900</td>\n",
       "    </tr>\n",
       "  </tbody>\n",
       "</table>\n",
       "</div>"
      ],
      "text/plain": [
       "            Date        Open        High         Low       Close   Adj Close  \\\n",
       "4562  2022-10-03   97.220001   99.970001   97.019997   99.300003   99.300003   \n",
       "4563  2022-10-04  101.040001  102.720001  101.040001  102.410004  102.410004   \n",
       "4564  2022-10-05  100.690002  102.739998   99.739998  102.220001  102.220001   \n",
       "4565  2022-10-06  101.500000  103.730003  101.500000  102.239998  102.239998   \n",
       "4566  2022-10-07  100.650002  101.419998   99.209999   99.570000   99.570000   \n",
       "\n",
       "        Volume  \n",
       "4562  24840000  \n",
       "4563  22580900  \n",
       "4564  18475500  \n",
       "4565  17156200  \n",
       "4566  24249900  "
      ]
     },
     "execution_count": 25,
     "metadata": {},
     "output_type": "execute_result"
    }
   ],
   "source": [
    "testing_data.head()"
   ]
  },
  {
   "cell_type": "code",
   "execution_count": 26,
   "id": "1f60bcaf",
   "metadata": {},
   "outputs": [
    {
     "name": "stderr",
     "output_type": "stream",
     "text": [
      "C:\\Users\\ayush\\AppData\\Local\\Temp\\ipykernel_3632\\2343619103.py:2: FutureWarning: The frame.append method is deprecated and will be removed from pandas in a future version. Use pandas.concat instead.\n",
      "  testing_data = past_60_days.append(testing_data, ignore_index = True)\n"
     ]
    },
    {
     "data": {
      "text/html": [
       "<div>\n",
       "<style scoped>\n",
       "    .dataframe tbody tr th:only-of-type {\n",
       "        vertical-align: middle;\n",
       "    }\n",
       "\n",
       "    .dataframe tbody tr th {\n",
       "        vertical-align: top;\n",
       "    }\n",
       "\n",
       "    .dataframe thead th {\n",
       "        text-align: right;\n",
       "    }\n",
       "</style>\n",
       "<table border=\"1\" class=\"dataframe\">\n",
       "  <thead>\n",
       "    <tr style=\"text-align: right;\">\n",
       "      <th></th>\n",
       "      <th>Open</th>\n",
       "      <th>High</th>\n",
       "      <th>Low</th>\n",
       "      <th>Close</th>\n",
       "      <th>Volume</th>\n",
       "    </tr>\n",
       "  </thead>\n",
       "  <tbody>\n",
       "    <tr>\n",
       "      <th>0</th>\n",
       "      <td>117.550003</td>\n",
       "      <td>120.434998</td>\n",
       "      <td>117.514000</td>\n",
       "      <td>120.168503</td>\n",
       "      <td>29082000</td>\n",
       "    </tr>\n",
       "    <tr>\n",
       "      <th>1</th>\n",
       "      <td>118.650002</td>\n",
       "      <td>118.794502</td>\n",
       "      <td>116.234497</td>\n",
       "      <td>116.522499</td>\n",
       "      <td>26718000</td>\n",
       "    </tr>\n",
       "    <tr>\n",
       "      <th>2</th>\n",
       "      <td>116.838501</td>\n",
       "      <td>117.849503</td>\n",
       "      <td>114.614998</td>\n",
       "      <td>114.849503</td>\n",
       "      <td>24970000</td>\n",
       "    </tr>\n",
       "    <tr>\n",
       "      <th>3</th>\n",
       "      <td>112.639000</td>\n",
       "      <td>115.156998</td>\n",
       "      <td>111.822998</td>\n",
       "      <td>112.186996</td>\n",
       "      <td>38958000</td>\n",
       "    </tr>\n",
       "    <tr>\n",
       "      <th>4</th>\n",
       "      <td>110.825996</td>\n",
       "      <td>111.987503</td>\n",
       "      <td>109.325500</td>\n",
       "      <td>111.440002</td>\n",
       "      <td>32366000</td>\n",
       "    </tr>\n",
       "  </tbody>\n",
       "</table>\n",
       "</div>"
      ],
      "text/plain": [
       "         Open        High         Low       Close    Volume\n",
       "0  117.550003  120.434998  117.514000  120.168503  29082000\n",
       "1  118.650002  118.794502  116.234497  116.522499  26718000\n",
       "2  116.838501  117.849503  114.614998  114.849503  24970000\n",
       "3  112.639000  115.156998  111.822998  112.186996  38958000\n",
       "4  110.825996  111.987503  109.325500  111.440002  32366000"
      ]
     },
     "execution_count": 26,
     "metadata": {},
     "output_type": "execute_result"
    }
   ],
   "source": [
    "past_60_days = data_training.tail(60)\n",
    "testing_data = past_60_days.append(testing_data, ignore_index = True)\n",
    "testing_data = testing_data.drop(['Date', 'Adj Close'], axis = 1)\n",
    "testing_data.head()"
   ]
  },
  {
   "cell_type": "code",
   "execution_count": 27,
   "id": "e1b4f7f4",
   "metadata": {},
   "outputs": [
    {
     "data": {
      "text/plain": [
       "array([[0.77031393, 0.7882874 , 0.78051488, 0.79394892, 0.01752227],\n",
       "       [0.77767705, 0.77731902, 0.77184013, 0.76935001, 0.01609013],\n",
       "       [0.76555131, 0.77100075, 0.76086029, 0.75806261, 0.01503117],\n",
       "       ...,\n",
       "       [0.76321852, 0.77732234, 0.77350461, 0.77230174, 0.01329727],\n",
       "       [0.76549442, 0.79340219, 0.77587752, 0.79341925, 0.01951425],\n",
       "       [0.78791848, 0.80062309, 0.79370832, 0.80279737, 0.01604979]])"
      ]
     },
     "execution_count": 27,
     "metadata": {},
     "output_type": "execute_result"
    }
   ],
   "source": [
    "testing_data = sc.transform(testing_data)\n",
    "testing_data"
   ]
  },
  {
   "cell_type": "code",
   "execution_count": 28,
   "id": "d9fb2c9f",
   "metadata": {},
   "outputs": [
    {
     "data": {
      "text/plain": [
       "((157, 60, 5), (157,))"
      ]
     },
     "execution_count": 28,
     "metadata": {},
     "output_type": "execute_result"
    }
   ],
   "source": [
    "X_test = []\n",
    "y_test = []\n",
    "\n",
    "for i in range(60, testing_data.shape[0]):\n",
    "    X_test.append(testing_data[i - 60 : i])\n",
    "    y_test.append(testing_data[i, 0])\n",
    "\n",
    "X_test, y_test = np.array(X_test), np.array(y_test)\n",
    "X_test.shape, y_test.shape"
   ]
  },
  {
   "cell_type": "code",
   "execution_count": 29,
   "id": "88fae0c1",
   "metadata": {},
   "outputs": [
    {
     "name": "stdout",
     "output_type": "stream",
     "text": [
      "5/5 [==============================] - 1s 27ms/step\n"
     ]
    }
   ],
   "source": [
    "y_pred = model.predict(X_test)"
   ]
  },
  {
   "cell_type": "code",
   "execution_count": 30,
   "id": "a3e1e421",
   "metadata": {},
   "outputs": [
    {
     "data": {
      "text/plain": [
       "numpy.ndarray"
      ]
     },
     "execution_count": 30,
     "metadata": {},
     "output_type": "execute_result"
    }
   ],
   "source": [
    "type(X_test)"
   ]
  },
  {
   "cell_type": "code",
   "execution_count": 31,
   "id": "4c1a62bc",
   "metadata": {},
   "outputs": [
    {
     "data": {
      "text/plain": [
       "(157, 1)"
      ]
     },
     "execution_count": 31,
     "metadata": {},
     "output_type": "execute_result"
    }
   ],
   "source": [
    "y_pred.shape"
   ]
  },
  {
   "cell_type": "code",
   "execution_count": 32,
   "id": "3c5d0dce",
   "metadata": {},
   "outputs": [
    {
     "data": {
      "text/plain": [
       "array([6.69375383e-03, 6.68601135e-03, 6.77977800e-03, 6.74681491e-03,\n",
       "       6.05813073e-10])"
      ]
     },
     "execution_count": 32,
     "metadata": {},
     "output_type": "execute_result"
    }
   ],
   "source": [
    "sc.scale_"
   ]
  },
  {
   "cell_type": "code",
   "execution_count": 33,
   "id": "3b35cfae",
   "metadata": {},
   "outputs": [
    {
     "data": {
      "text/plain": [
       "149.39300509053825"
      ]
     },
     "execution_count": 33,
     "metadata": {},
     "output_type": "execute_result"
    }
   ],
   "source": [
    "scale = 1/6.69375383e-03\n",
    "scale"
   ]
  },
  {
   "cell_type": "code",
   "execution_count": 39,
   "id": "7341b025",
   "metadata": {},
   "outputs": [],
   "source": [
    "y_pred = y_pred*scale\n",
    "y_test = y_test*scale"
   ]
  },
  {
   "cell_type": "code",
   "execution_count": 40,
   "id": "cde371c9",
   "metadata": {},
   "outputs": [
    {
     "data": {
      "image/png": "[encoded data removed]",
      "text/plain": [
       "<Figure size 1400x700 with 1 Axes>"
      ]
     },
     "metadata": {},
     "output_type": "display_data"
    }
   ],
   "source": [
    "# Visualising\n",
    "plt.figure(figsize=(14,7))\n",
    "plt.plot(y_test, color = 'black', label = 'Actual Price', linestyle='--')\n",
    "plt.plot(y_pred, color = 'red', label = 'Predicted Price', linestyle=(5, (10, 2)))\n",
    "plt.title('Google Stock Price Prediction using RNN')\n",
    "plt.xlabel('Time')\n",
    "plt.ylabel('Google\\'s Stock Price')\n",
    "plt.legend()\n",
    "plt.show()"
   ]
  }
 ],
 "metadata": {
  "kernelspec": {
   "display_name": "Python 3 (ipykernel)",
   "language": "python",
   "name": "python3"
  },
  "language_info": {
   "codemirror_mode": {
    "name": "ipython",
    "version": 3
   },
   "file_extension": ".py",
   "mimetype": "text/x-python",
   "name": "python",
   "nbconvert_exporter": "python",
   "pygments_lexer": "ipython3",
   "version": "3.9.13"
  }
 },
 "nbformat": 4,
 "nbformat_minor": 5
}
